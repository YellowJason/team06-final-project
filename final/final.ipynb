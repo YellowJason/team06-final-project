{
 "cells": [
  {
   "cell_type": "code",
   "execution_count": 1,
   "metadata": {},
   "outputs": [
    {
     "name": "stdout",
     "output_type": "stream",
     "text": [
      "pygame 1.9.6\n",
      "Hello from the pygame community. https://www.pygame.org/contribute.html\n"
     ]
    }
   ],
   "source": [
    "import jump\n",
    "import guess\n",
    "import pygame as pg\n",
    "\n",
    "def total():\n",
    "    pg.init()\n",
    "    #建立視窗\n",
    "    width,height = 450,500\n",
    "    screen2 = pg.display.set_mode((width, height))\n",
    "    pg.display.set_caption(\"柴柴的奇幻冒險\")\n",
    "    #建立畫面\n",
    "    bg_picture = pg.image.load('柴柴_背景.png')\n",
    "    bg_picture.convert()\n",
    "    title = pg.image.load('柴柴的奇幻冒險1.png')\n",
    "    title.convert\n",
    "    #顯示\n",
    "    x = -100\n",
    "    #建立時間元件\n",
    "    clock = pg.time.Clock()\n",
    "    T = 0\n",
    "\n",
    "    class button:\n",
    "            def __init__(self,y,game,name):\n",
    "                self.x = 150\n",
    "                self.y = y\n",
    "                self.width = 150\n",
    "                self.color = (255,250,200)\n",
    "                self.button = pg.Surface((self.width,50))#建立繪圖區\n",
    "                self.button.fill(self.color)\n",
    "                self.game = game\n",
    "                self.name = name\n",
    "                self.font = pg.font.SysFont(\"simhei\", 40)\n",
    "                self.word = self.font.render(self.name, True, (100,0,100),self.color)\n",
    "\n",
    "            def draw(self):\n",
    "                self.word = self.font.render(self.name, True, (100,0,100),self.color)\n",
    "                self.button.blit(self.word,(10,15))\n",
    "                screen2.blit(self.button,(self.x,self.y))\n",
    "\n",
    "            def update(self):\n",
    "                #確認滑鼠位置\n",
    "                buttons = pg.mouse.get_pressed()\n",
    "                location = pg.mouse.get_pos()\n",
    "\n",
    "                if self.x <= location[0] <= self.x + 130 and self.y <= location[1] <= self.y + 50:\n",
    "                    self.color = (255,200,200)\n",
    "                    self.button.fill(self.color)\n",
    "                    if buttons[0]:\n",
    "                        self.game()\n",
    "                else:\n",
    "                    self.color = (255,255,200)\n",
    "                    self.button.fill(self.color)\n",
    "\n",
    "    button1 = button(250,jump.main,'Jumping!')\n",
    "    button2 = button(350,guess.main,'Guessing!')\n",
    "\n",
    "    running1 = True\n",
    "    while running1:\n",
    "        screen2 = pg.display.set_mode((width, height))\n",
    "        pg.display.set_caption(\"柴柴的奇幻冒險\")\n",
    "        T += 1\n",
    "        for event in pg.event.get():\n",
    "            if event.type == pg.QUIT:\n",
    "                running1 = False\n",
    "        #移動背景\n",
    "        x += 2\n",
    "        if x >= 0:\n",
    "            x = -100\n",
    "\n",
    "        screen2.blit(bg_picture,(x,0))\n",
    "        screen2.blit(title,(75,50))\n",
    "\n",
    "        button1.update()\n",
    "        button1.draw()\n",
    "        button2.update()\n",
    "        button2.draw()\n",
    "\n",
    "        pg.display.update()\n",
    "        pg.time.delay(10)\n",
    "\n",
    "    pg.quit()"
   ]
  },
  {
   "cell_type": "code",
   "execution_count": 2,
   "metadata": {},
   "outputs": [],
   "source": [
    "total()"
   ]
  }
 ],
 "metadata": {
  "kernelspec": {
   "display_name": "Python 3",
   "language": "python",
   "name": "python3"
  },
  "language_info": {
   "codemirror_mode": {
    "name": "ipython",
    "version": 3
   },
   "file_extension": ".py",
   "mimetype": "text/x-python",
   "name": "python",
   "nbconvert_exporter": "python",
   "pygments_lexer": "ipython3",
   "version": "3.7.3"
  }
 },
 "nbformat": 4,
 "nbformat_minor": 2
}
